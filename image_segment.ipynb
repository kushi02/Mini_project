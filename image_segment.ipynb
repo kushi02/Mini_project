{
  "nbformat": 4,
  "nbformat_minor": 0,
  "metadata": {
    "colab": {
      "provenance": [],
      "mount_file_id": "1AYbh6y3JG0PuZRvCbJsZQAIx69_VA6RU",
      "authorship_tag": "ABX9TyPgqhTSzrizdqc68toxAkxJ",
      "include_colab_link": true
    },
    "kernelspec": {
      "name": "python3",
      "display_name": "Python 3"
    },
    "language_info": {
      "name": "python"
    }
  },
  "cells": [
    {
      "cell_type": "markdown",
      "metadata": {
        "id": "view-in-github",
        "colab_type": "text"
      },
      "source": [
        "<a href=\"https://colab.research.google.com/github/kushi02/Mini_project/blob/main/image_segment.ipynb\" target=\"_parent\"><img src=\"https://colab.research.google.com/assets/colab-badge.svg\" alt=\"Open In Colab\"/></a>"
      ]
    },
    {
      "cell_type": "code",
      "execution_count": null,
      "metadata": {
        "id": "_z8H7rwaW13f"
      },
      "outputs": [],
      "source": [
        "import numpy as np\n",
        "import sys\n",
        "import cv2\n",
        "from google.colab import files\n",
        "from matplotlib import pyplot as plt"
      ]
    },
    {
      "cell_type": "code",
      "source": [
        "def getAreaOfFood(img1):\n",
        "  img = cv2.cvtColor(img1, cv2.COLOR_BGR2GRAY)\n",
        "  # plt.imshow(img)\n",
        "  img_filt = cv2.medianBlur( img, 5)\n",
        "  img_th = cv2.adaptiveThreshold(img_filt,255,cv2.ADAPTIVE_THRESH_GAUSSIAN_C,cv2.THRESH_BINARY,11,2)\n",
        "  contours, hierarchy = cv2.findContours(img_th, cv2.RETR_LIST, cv2.CHAIN_APPROX_SIMPLE)\n",
        "\n",
        "  mask = np.zeros(img.shape, np.uint8)\n",
        "  largest_areas = sorted(contours, key=cv2.contourArea)\n",
        "  cv2.drawContours(mask, [largest_areas[-1]], 0, (255,255,255,255), -1)\n",
        "  img_bigcontour = cv2.bitwise_and(img1,img1,mask = mask)\n",
        "  #plt.imshow(img_bigcontour)\n",
        "\n",
        "  hsv_img = cv2.cvtColor(img_bigcontour, cv2.COLOR_BGR2HSV)\n",
        "  #plt.imshow(hsv_img)\n",
        "  h,s,v = cv2.split(hsv_img)\n",
        "  mask_plate = cv2.inRange(hsv_img, np.array([0,0,100]), np.array([255,90,255]))\n",
        "  mask_not_plate = cv2.bitwise_not(mask_plate)\n",
        "  fruit_skin = cv2.bitwise_and(img_bigcontour,img_bigcontour,mask = mask_not_plate)\n",
        "  skin = cv2.inRange(hsv_img, np.array([0,10,60]), np.array([10,160,255])) #Scalar(0, 10, 60), Scalar(20, 150, 255)\n",
        "  not_skin = cv2.bitwise_not(skin); #invert skin and black\n",
        "  fruit = cv2.bitwise_and(fruit_skin,fruit_skin,mask = not_skin) #get only fruit pixels\n",
        "  fruit_bw = cv2.cvtColor(fruit, cv2.COLOR_BGR2GRAY)\n",
        "  fruit_bin = cv2.inRange(fruit_bw, 10, 255) #binary of fruit\n",
        "  kernel = cv2.getStructuringElement(cv2.MORPH_ELLIPSE,(3,3))\n",
        "  erode_fruit = cv2.erode(fruit_bin,kernel,iterations = 1)\n",
        "\n",
        "  img_th = cv2.adaptiveThreshold(erode_fruit,255,cv2.ADAPTIVE_THRESH_GAUSSIAN_C,cv2.THRESH_BINARY,11,2)\n",
        "  contours, hierarchy = cv2.findContours(img_th, cv2.RETR_LIST, cv2.CHAIN_APPROX_SIMPLE)\n",
        "  mask_fruit = np.zeros(fruit_bin.shape, np.uint8)\n",
        "  largest_areas = sorted(contours, key=cv2.contourArea)\n",
        "  #print(largest_areas)\n",
        "  cv2.drawContours(mask_fruit, [largest_areas[-2]], 0, (255,255,255), -1)\n",
        "\n",
        "  kernel2 = cv2.getStructuringElement(cv2.MORPH_ELLIPSE,(13,13))\n",
        "  mask_fruit2 = cv2.dilate(mask_fruit,kernel2,iterations = 1)\n",
        "  res = cv2.bitwise_and(fruit_bin,fruit_bin,mask = mask_fruit2)\n",
        "  fruit_final = cv2.bitwise_and(img1,img1,mask = mask_fruit2)\n",
        "\n",
        "  #find area of fruit\n",
        "  img_th = cv2.adaptiveThreshold(mask_fruit2,255,cv2.ADAPTIVE_THRESH_GAUSSIAN_C,cv2.THRESH_BINARY,11,2)\n",
        "  #plt.imshow(img_th)\n",
        "  contours, hierarchy = cv2.findContours(img_th, cv2.RETR_LIST, cv2.CHAIN_APPROX_SIMPLE)\n",
        "  largest_areas = sorted(contours, key=cv2.contourArea)\n",
        "  fruit_contour = largest_areas[-2]\n",
        "  fruit_area = cv2.contourArea(fruit_contour)\n",
        "\n",
        "  #finding the area of skin. find area of biggest contour\n",
        "  skin2 = skin - mask_fruit2\n",
        "  #erode before finding contours\n",
        "  kernel = cv2.getStructuringElement(cv2.MORPH_ELLIPSE,(3,3))\n",
        "  skin_e = cv2.erode(skin2,kernel,iterations = 1)\n",
        "  img_th = cv2.adaptiveThreshold(skin_e,255,cv2.ADAPTIVE_THRESH_GAUSSIAN_C,cv2.THRESH_BINARY,11,2)\n",
        "  # plt.imshow(img_th)\n",
        "  contours, hierarchy = cv2.findContours(img_th, cv2.RETR_LIST, cv2.CHAIN_APPROX_SIMPLE)\n",
        "  mask_skin = np.zeros(skin.shape, np.uint8)\n",
        "  largest_areas = sorted(contours, key=cv2.contourArea)\n",
        "  cv2.drawContours(mask_skin, [largest_areas[-2]], 0, (255,255,255), -1)\n",
        "\n",
        "  skin_rect = cv2.minAreaRect(largest_areas[-2])\n",
        "  box = cv2.boxPoints(skin_rect)\n",
        "  box = np.int0(box)\n",
        "  mask_skin2 = np.zeros(skin.shape, np.uint8)\n",
        "  cv2.drawContours(mask_skin2,[box],0,(255,255,255), -1)\n",
        "\n",
        "  pix_height = max(skin_rect[1])\n",
        "  pix_to_cm_multiplier = 5.0/pix_height\n",
        "  skin_area = cv2.contourArea(box)\n",
        "\n",
        "  return fruit_area, mask_fruit2, fruit_final, skin_area, fruit_contour, pix_to_cm_multiplier\n",
        "\n",
        "if __name__ == '__main__':\n",
        "  img1 = cv2.imread('/content/1_14.jpg')\n",
        "  img = cv2.resize(img1,(1000,1000))\n",
        "  area, bin_fruit, img_fruit, skin_area, fruit_contour, pix_to_cm_multiplier = getAreaOfFood(img)\n",
        "  #print(area)\n",
        "  #plt.imshow(img_fruit)\n",
        "\n",
        "  \n",
        "\n"
      ],
      "metadata": {
        "id": "05-2DE-yW5AK"
      },
      "execution_count": null,
      "outputs": []
    },
    {
      "cell_type": "code",
      "source": [
        "\n",
        "from google.colab import drive\n",
        "drive.mount('/content/gdrive')"
      ],
      "metadata": {
        "colab": {
          "base_uri": "https://localhost:8080/"
        },
        "id": "vcqakEJXSHhN",
        "outputId": "2f4cad4b-abbb-4fed-a61d-73ce595cef3f"
      },
      "execution_count": null,
      "outputs": [
        {
          "output_type": "stream",
          "name": "stdout",
          "text": [
            "/content\n",
            "Mounted at /content/gdrive\n"
          ]
        }
      ]
    }
  ]
}