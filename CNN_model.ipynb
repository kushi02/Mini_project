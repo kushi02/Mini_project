{
  "nbformat": 4,
  "nbformat_minor": 0,
  "metadata": {
    "colab": {
      "provenance": [],
      "toc_visible": true,
      "authorship_tag": "ABX9TyNpmoiIw0rCZXsMmwNWXUXC",
      "include_colab_link": true
    },
    "kernelspec": {
      "name": "python3",
      "display_name": "Python 3"
    },
    "language_info": {
      "name": "python"
    }
  },
  "cells": [
    {
      "cell_type": "markdown",
      "metadata": {
        "id": "view-in-github",
        "colab_type": "text"
      },
      "source": [
        "<a href=\"https://colab.research.google.com/github/kushi02/Mini_project/blob/main/CNN_model.ipynb\" target=\"_parent\"><img src=\"https://colab.research.google.com/assets/colab-badge.svg\" alt=\"Open In Colab\"/></a>"
      ]
    },
    {
      "cell_type": "code",
      "execution_count": null,
      "metadata": {
        "colab": {
          "base_uri": "https://localhost:8080/"
        },
        "id": "J-C41d4Gwd7g",
        "outputId": "d042557c-1b22-48fd-8a55-0cdd5d8297fb"
      },
      "outputs": [
        {
          "output_type": "stream",
          "name": "stderr",
          "text": [
            "WARNING:tensorflow:From /usr/local/lib/python3.10/dist-packages/tensorflow/python/compat/v2_compat.py:107: disable_resource_variables (from tensorflow.python.ops.variable_scope) is deprecated and will be removed in a future version.\n",
            "Instructions for updating:\n",
            "non-resource variables are not supported in the long term\n"
          ]
        }
      ],
      "source": [
        "import tensorflow as tf\n",
        "import tflearn\n",
        "from tflearn.layers.conv import conv_2d, max_pool_2d\n",
        "from tflearn.layers.core import input_data, dropout, fully_connected\n",
        "from tflearn.layers.estimator import regression"
      ]
    },
    {
      "cell_type": "code",
      "source": [
        "!pip install tflearn"
      ],
      "metadata": {
        "id": "WM28arfV1WFY",
        "colab": {
          "base_uri": "https://localhost:8080/"
        },
        "outputId": "622d5cec-ce49-4574-99a8-030905feef43"
      },
      "execution_count": null,
      "outputs": [
        {
          "output_type": "stream",
          "name": "stdout",
          "text": [
            "Looking in indexes: https://pypi.org/simple, https://us-python.pkg.dev/colab-wheels/public/simple/\n",
            "Requirement already satisfied: tflearn in /usr/local/lib/python3.10/dist-packages (0.5.0)\n",
            "Requirement already satisfied: numpy in /usr/local/lib/python3.10/dist-packages (from tflearn) (1.22.4)\n",
            "Requirement already satisfied: Pillow in /usr/local/lib/python3.10/dist-packages (from tflearn) (8.4.0)\n",
            "Requirement already satisfied: six in /usr/local/lib/python3.10/dist-packages (from tflearn) (1.16.0)\n"
          ]
        }
      ]
    },
    {
      "cell_type": "code",
      "source": [
        "def get_model(IMG_SIZE,no_of_fruits,LR):\n",
        "  try:\n",
        "    tf.reset_default_graph()\n",
        "  except:\n",
        "    print(\"tensorflow\")\n",
        "  convnet = input_data(shape=[None, IMG_SIZE, IMG_SIZE, 3], name='input')\n",
        "  convnet = conv_2d(convnet, 32, 5, activation='relu')\n",
        "  convnet = max_pool_2d(convnet, 5)\n",
        "  convnet = conv_2d(convnet, 64, 5, activation='relu')\n",
        "  convnet = max_pool_2d(convnet, 5)\n",
        "  convnet = conv_2d(convnet, 128, 5, activation='relu')\n",
        "  convnet = max_pool_2d(convnet, 5)\n",
        "  convnet = conv_2d(convnet, 64, 5, activation='relu')\n",
        "  convnet = max_pool_2d(convnet, 5)\n",
        "  convnet = conv_2d(convnet, 32, 5, activation='relu')\n",
        "  convnet = max_pool_2d(convnet, 5)\n",
        "  convnet = dropout(convnet, 0.8)\n",
        "  convnet = fully_connected(convnet, no_of_fruits, activation='softmax')\n",
        "  convnet = regression(convnet, optimizer='adam', learning_rate=LR, loss='categorical_crossentropy', name='targets')\n",
        "\n",
        "  model = tflearn.DNN(convnet, tensorboard_dir='log')\n",
        "\n",
        "  return model"
      ],
      "metadata": {
        "id": "bDYDrxSLNNap"
      },
      "execution_count": null,
      "outputs": []
    },
    {
      "cell_type": "markdown",
      "source": [
        "# New Section"
      ],
      "metadata": {
        "id": "IWOEdXhTWOGR"
      }
    }
  ]
}